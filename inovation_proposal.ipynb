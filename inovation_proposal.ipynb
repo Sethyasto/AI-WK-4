{
  "nbformat": 4,
  "nbformat_minor": 0,
  "metadata": {
    "colab": {
      "provenance": [],
      "authorship_tag": "ABX9TyMoQNDyxVGFVIX+4g2t3z4o",
      "include_colab_link": true
    },
    "kernelspec": {
      "name": "python3",
      "display_name": "Python 3"
    },
    "language_info": {
      "name": "python"
    }
  },
  "cells": [
    {
      "cell_type": "markdown",
      "metadata": {
        "id": "view-in-github",
        "colab_type": "text"
      },
      "source": [
        "<a href=\"https://colab.research.google.com/github/Sethyasto/AI-WK-4/blob/main/inovation_proposal.ipynb\" target=\"_parent\"><img src=\"https://colab.research.google.com/assets/colab-badge.svg\" alt=\"Open In Colab\"/></a>"
      ]
    },
    {
      "cell_type": "code",
      "execution_count": null,
      "metadata": {
        "id": "opsVKxsJF9xm"
      },
      "outputs": [],
      "source": []
    },
    {
      "cell_type": "markdown",
      "source": [
        "Bonus: Innovation Challenge (10%)\n",
        "✅ Proposal: AI-Powered Automated Documentation Generator\n",
        "Purpose:\n",
        "Automatically generates technical documentation from source code using NLP.\n",
        "\n",
        "Workflow:\n",
        "\n",
        "Parses code comments, functions, and classes.\n",
        "\n",
        "Summarizes functionality using LLMs.\n",
        "\n",
        "Outputs markdown/pdf documentation.\n",
        "\n",
        "Impact:\n",
        "\n",
        "Reduces developer time spent on writing docs.\n",
        "\n",
        "Keeps documentation up-to-date with code changes."
      ],
      "metadata": {
        "id": "OwPkEkE1F_5a"
      }
    }
  ]
}